{
 "cells": [
  {
   "cell_type": "code",
   "execution_count": 1,
   "id": "258f7235-08a3-4923-9917-6d2c4fcd5854",
   "metadata": {
    "tags": []
   },
   "outputs": [],
   "source": [
    "import torch\n",
    "import wandb\n",
    "from sklearn.utils import resample\n",
    "from tqdm.notebook import tqdm\n",
    "from torch.utils.data import TensorDataset, DataLoader\n",
    "from sklearn.metrics import (\n",
    "    accuracy_score, f1_score, precision_score, recall_score, matthews_corrcoef, roc_auc_score\n",
    ")\n",
    "from torch.nn.functional import softmax"
   ]
  },
  {
   "cell_type": "code",
   "execution_count": 2,
   "id": "6e423b10-6752-4c08-9c31-3f6bc893afeb",
   "metadata": {
    "tags": []
   },
   "outputs": [
    {
     "name": "stderr",
     "output_type": "stream",
     "text": [
      "\u001b[34m\u001b[1mwandb\u001b[0m: Currently logged in as: \u001b[33mloureirolucas98\u001b[0m (\u001b[33mloureirolucas98-ufrn\u001b[0m). Use \u001b[1m`wandb login --relogin`\u001b[0m to force relogin\n",
      "\u001b[34m\u001b[1mwandb\u001b[0m: Using wandb-core as the SDK backend.  Please refer to https://wandb.me/wandb-core for more information.\n"
     ]
    },
    {
     "data": {
      "text/html": [
       "Tracking run with wandb version 0.19.3"
      ],
      "text/plain": [
       "<IPython.core.display.HTML object>"
      ]
     },
     "metadata": {},
     "output_type": "display_data"
    },
    {
     "data": {
      "text/html": [
       "Run data is saved locally in <code>/home/lladseloi/wandb/run-20250122_053201-ggdcvaur</code>"
      ],
      "text/plain": [
       "<IPython.core.display.HTML object>"
      ]
     },
     "metadata": {},
     "output_type": "display_data"
    },
    {
     "data": {
      "text/html": [
       "Syncing run <strong><a href='https://wandb.ai/loureirolucas98-ufrn/Pedidos_Respostas_LLM_Completo/runs/ggdcvaur' target=\"_blank\">avaliacao_modelo_sem_pesos</a></strong> to <a href='https://wandb.ai/loureirolucas98-ufrn/Pedidos_Respostas_LLM_Completo' target=\"_blank\">Weights & Biases</a> (<a href='https://wandb.me/developer-guide' target=\"_blank\">docs</a>)<br>"
      ],
      "text/plain": [
       "<IPython.core.display.HTML object>"
      ]
     },
     "metadata": {},
     "output_type": "display_data"
    },
    {
     "data": {
      "text/html": [
       " View project at <a href='https://wandb.ai/loureirolucas98-ufrn/Pedidos_Respostas_LLM_Completo' target=\"_blank\">https://wandb.ai/loureirolucas98-ufrn/Pedidos_Respostas_LLM_Completo</a>"
      ],
      "text/plain": [
       "<IPython.core.display.HTML object>"
      ]
     },
     "metadata": {},
     "output_type": "display_data"
    },
    {
     "data": {
      "text/html": [
       " View run at <a href='https://wandb.ai/loureirolucas98-ufrn/Pedidos_Respostas_LLM_Completo/runs/ggdcvaur' target=\"_blank\">https://wandb.ai/loureirolucas98-ufrn/Pedidos_Respostas_LLM_Completo/runs/ggdcvaur</a>"
      ],
      "text/plain": [
       "<IPython.core.display.HTML object>"
      ]
     },
     "metadata": {},
     "output_type": "display_data"
    },
    {
     "name": "stderr",
     "output_type": "stream",
     "text": [
      "\u001b[34m\u001b[1mwandb\u001b[0m: Downloading large artifact test_embeddings:latest, 197.23MB. 1 files... \n",
      "\u001b[34m\u001b[1mwandb\u001b[0m:   1 of 1 files downloaded.  \n",
      "Done. 0:0:0.7\n"
     ]
    }
   ],
   "source": [
    "# Iniciar uma nova sessão do WandB para o primeiro modelo\n",
    "run = wandb.init(project=\"Pedidos_Respostas_LLM_Completo\", name=\"avaliacao_modelo_sem_pesos\")\n",
    "\n",
    "# Baixar o artefato de embeddings de teste\n",
    "artifact = run.use_artifact(\"test_embeddings:latest\")  # Certifique-se de usar o nome correto do artefato\n",
    "artifact_dir = artifact.download()\n",
    "artifact_path = f\"{artifact_dir}/test_embeddings.pt\"\n",
    "\n",
    "# Carregar os embeddings e rótulos de teste\n",
    "data = torch.load(artifact_path)\n",
    "test_embeddings = data['embeddings']\n",
    "test_labels = data['labels']  # Aqui estão os rótulos correspondentes"
   ]
  },
  {
   "cell_type": "code",
   "execution_count": 3,
   "id": "40af5320-5820-47ac-89dd-93abaf56819f",
   "metadata": {
    "tags": []
   },
   "outputs": [
    {
     "name": "stdout",
     "output_type": "stream",
     "text": [
      "Tamanho antes do balanceamento: 67147\n",
      "Tamanho após o balanceamento: 34550\n"
     ]
    }
   ],
   "source": [
    "# Balancear as classes no conjunto de validação com variação estocástica\n",
    "unique_classes, counts = torch.unique(test_labels, return_counts=True)\n",
    "min_class_count = counts.min().item()\n",
    "\n",
    "balanced_embeddings = []\n",
    "balanced_labels = []\n",
    "\n",
    "for cls in unique_classes:\n",
    "    # Filtrar embeddings e labels da classe atual\n",
    "    cls_mask = (test_labels == cls)\n",
    "    cls_embeddings = test_embeddings[cls_mask]\n",
    "    cls_labels = test_labels[cls_mask]\n",
    "\n",
    "    # Embaralhar índices de dados da classe\n",
    "    indices = torch.randperm(len(cls_embeddings))[:min_class_count]\n",
    "\n",
    "    # Selecionar amostras balanceadas com variação estocástica\n",
    "    cls_embeddings_balanced = cls_embeddings[indices]\n",
    "    cls_labels_balanced = cls_labels[indices]\n",
    "\n",
    "    balanced_embeddings.append(cls_embeddings_balanced)\n",
    "    balanced_labels.append(cls_labels_balanced)\n",
    "\n",
    "# Concatenar os embeddings e labels balanceados\n",
    "balanced_embeddings = torch.cat(balanced_embeddings, dim=0)\n",
    "balanced_labels = torch.cat(balanced_labels, dim=0)\n",
    "\n",
    "# Mostrar tamanhos antes e depois do balanceamento\n",
    "print(f\"Tamanho antes do balanceamento: {len(test_labels)}\")\n",
    "print(f\"Tamanho após o balanceamento: {len(balanced_labels)}\")\n",
    "\n",
    "\n",
    "balanced_dataset = TensorDataset(balanced_embeddings, balanced_labels)\n",
    "balanced_dataloader = DataLoader(balanced_dataset, batch_size=32, shuffle=False)"
   ]
  },
  {
   "cell_type": "code",
   "execution_count": 4,
   "id": "823befd1-7c7f-458b-87af-a89fdf2fa9bb",
   "metadata": {
    "tags": []
   },
   "outputs": [
    {
     "name": "stderr",
     "output_type": "stream",
     "text": [
      "/home/lladseloi/.conda/envs/env_llm/lib/python3.10/site-packages/torchvision/datapoints/__init__.py:12: UserWarning: The torchvision.datapoints and torchvision.transforms.v2 namespaces are still Beta. While we do not expect major breaking changes, some APIs may still change according to user feedback. Please submit any feedback you may have in this issue: https://github.com/pytorch/vision/issues/6753, and you can also check out https://github.com/pytorch/vision/issues/7319 to learn more about the APIs that we suspect might involve future changes. You can silence this warning by calling torchvision.disable_beta_transforms_warning().\n",
      "  warnings.warn(_BETA_TRANSFORMS_WARNING)\n",
      "/home/lladseloi/.conda/envs/env_llm/lib/python3.10/site-packages/torchvision/transforms/v2/__init__.py:54: UserWarning: The torchvision.datapoints and torchvision.transforms.v2 namespaces are still Beta. While we do not expect major breaking changes, some APIs may still change according to user feedback. Please submit any feedback you may have in this issue: https://github.com/pytorch/vision/issues/6753, and you can also check out https://github.com/pytorch/vision/issues/7319 to learn more about the APIs that we suspect might involve future changes. You can silence this warning by calling torchvision.disable_beta_transforms_warning().\n",
      "  warnings.warn(_BETA_TRANSFORMS_WARNING)\n"
     ]
    },
    {
     "data": {
      "text/plain": [
       "BertForSequenceClassification(\n",
       "  (bert): BertModel(\n",
       "    (embeddings): BertEmbeddings(\n",
       "      (word_embeddings): Embedding(29794, 768, padding_idx=0)\n",
       "      (position_embeddings): Embedding(512, 768)\n",
       "      (token_type_embeddings): Embedding(2, 768)\n",
       "      (LayerNorm): LayerNorm((768,), eps=1e-12, elementwise_affine=True)\n",
       "      (dropout): Dropout(p=0.1, inplace=False)\n",
       "    )\n",
       "    (encoder): BertEncoder(\n",
       "      (layer): ModuleList(\n",
       "        (0-11): 12 x BertLayer(\n",
       "          (attention): BertAttention(\n",
       "            (self): BertSelfAttention(\n",
       "              (query): Linear(in_features=768, out_features=768, bias=True)\n",
       "              (key): Linear(in_features=768, out_features=768, bias=True)\n",
       "              (value): Linear(in_features=768, out_features=768, bias=True)\n",
       "              (dropout): Dropout(p=0.1, inplace=False)\n",
       "            )\n",
       "            (output): BertSelfOutput(\n",
       "              (dense): Linear(in_features=768, out_features=768, bias=True)\n",
       "              (LayerNorm): LayerNorm((768,), eps=1e-12, elementwise_affine=True)\n",
       "              (dropout): Dropout(p=0.1, inplace=False)\n",
       "            )\n",
       "          )\n",
       "          (intermediate): BertIntermediate(\n",
       "            (dense): Linear(in_features=768, out_features=3072, bias=True)\n",
       "            (intermediate_act_fn): GELUActivation()\n",
       "          )\n",
       "          (output): BertOutput(\n",
       "            (dense): Linear(in_features=3072, out_features=768, bias=True)\n",
       "            (LayerNorm): LayerNorm((768,), eps=1e-12, elementwise_affine=True)\n",
       "            (dropout): Dropout(p=0.1, inplace=False)\n",
       "          )\n",
       "        )\n",
       "      )\n",
       "    )\n",
       "    (pooler): BertPooler(\n",
       "      (dense): Linear(in_features=768, out_features=768, bias=True)\n",
       "      (activation): Tanh()\n",
       "    )\n",
       "  )\n",
       "  (dropout): Dropout(p=0.1, inplace=False)\n",
       "  (classifier): Linear(in_features=768, out_features=2, bias=True)\n",
       ")"
      ]
     },
     "execution_count": 4,
     "metadata": {},
     "output_type": "execute_result"
    }
   ],
   "source": [
    "from transformers import AutoTokenizer, AutoModelForSequenceClassification\n",
    "import torch\n",
    "\n",
    "# Definir o nome do modelo salvo no Hugging Face\n",
    "model_name = \"Lorero/bert-treinado-pedidos-completo\"\n",
    "\n",
    "# Carregar o modelo e o tokenizer do Hugging Face\n",
    "tokenizer = AutoTokenizer.from_pretrained(model_name)\n",
    "model = AutoModelForSequenceClassification.from_pretrained(model_name)\n",
    "\n",
    "# Configurar o dispositivo\n",
    "device = torch.device(\"cuda\") if torch.cuda.is_available() else torch.device(\"cpu\")\n",
    "model.to(device)"
   ]
  },
  {
   "cell_type": "code",
   "execution_count": 5,
   "id": "912498fa-2a73-4fba-a546-219240392119",
   "metadata": {
    "tags": []
   },
   "outputs": [
    {
     "data": {
      "application/vnd.jupyter.widget-view+json": {
       "model_id": "",
       "version_major": 2,
       "version_minor": 0
      },
      "text/plain": [
       "Validando:   0%|          | 0/1080 [00:00<?, ?it/s]"
      ]
     },
     "metadata": {},
     "output_type": "display_data"
    },
    {
     "name": "stdout",
     "output_type": "stream",
     "text": [
      "Modelo sem pesos - Validation - Loss: 0.6850 - Accuracy: 0.7032 - F1: 0.6866 - Precision: 0.7576 - Recall: 0.7032 - MCC: 0.4575 - ROC-AUC: 0.7992824208711969\n"
     ]
    },
    {
     "data": {
      "text/html": [],
      "text/plain": [
       "<IPython.core.display.HTML object>"
      ]
     },
     "metadata": {},
     "output_type": "display_data"
    },
    {
     "data": {
      "text/html": [
       "<br>    <style><br>        .wandb-row {<br>            display: flex;<br>            flex-direction: row;<br>            flex-wrap: wrap;<br>            justify-content: flex-start;<br>            width: 100%;<br>        }<br>        .wandb-col {<br>            display: flex;<br>            flex-direction: column;<br>            flex-basis: 100%;<br>            flex: 1;<br>            padding: 10px;<br>        }<br>    </style><br><div class=\"wandb-row\"><div class=\"wandb-col\"><h3>Run history:</h3><br/><table class=\"wandb\"><tr><td>val_accuracy</td><td>▁</td></tr><tr><td>val_f1</td><td>▁</td></tr><tr><td>val_loss</td><td>▁</td></tr><tr><td>val_mcc</td><td>▁</td></tr><tr><td>val_precision</td><td>▁</td></tr><tr><td>val_recall</td><td>▁</td></tr><tr><td>val_roc_auc</td><td>▁</td></tr></table><br/></div><div class=\"wandb-col\"><h3>Run summary:</h3><br/><table class=\"wandb\"><tr><td>val_accuracy</td><td>0.70318</td></tr><tr><td>val_f1</td><td>0.68664</td></tr><tr><td>val_loss</td><td>0.68496</td></tr><tr><td>val_mcc</td><td>0.45755</td></tr><tr><td>val_precision</td><td>0.75759</td></tr><tr><td>val_recall</td><td>0.70318</td></tr><tr><td>val_roc_auc</td><td>0.79928</td></tr></table><br/></div></div>"
      ],
      "text/plain": [
       "<IPython.core.display.HTML object>"
      ]
     },
     "metadata": {},
     "output_type": "display_data"
    },
    {
     "data": {
      "text/html": [
       " View run <strong style=\"color:#cdcd00\">avaliacao_modelo_sem_pesos</strong> at: <a href='https://wandb.ai/loureirolucas98-ufrn/Pedidos_Respostas_LLM_Completo/runs/ggdcvaur' target=\"_blank\">https://wandb.ai/loureirolucas98-ufrn/Pedidos_Respostas_LLM_Completo/runs/ggdcvaur</a><br> View project at: <a href='https://wandb.ai/loureirolucas98-ufrn/Pedidos_Respostas_LLM_Completo' target=\"_blank\">https://wandb.ai/loureirolucas98-ufrn/Pedidos_Respostas_LLM_Completo</a><br>Synced 5 W&B file(s), 0 media file(s), 0 artifact file(s) and 0 other file(s)"
      ],
      "text/plain": [
       "<IPython.core.display.HTML object>"
      ]
     },
     "metadata": {},
     "output_type": "display_data"
    },
    {
     "data": {
      "text/html": [
       "Find logs at: <code>./wandb/run-20250122_053201-ggdcvaur/logs</code>"
      ],
      "text/plain": [
       "<IPython.core.display.HTML object>"
      ]
     },
     "metadata": {},
     "output_type": "display_data"
    }
   ],
   "source": [
    "# Avaliação no conjunto balanceado\n",
    "model.eval()\n",
    "val_loss = 0\n",
    "val_true_labels = []\n",
    "val_predicted_labels = []\n",
    "val_probabilities = []\n",
    "\n",
    "with torch.no_grad():\n",
    "    progress_bar = tqdm(balanced_dataloader, desc=\"Validando\", leave=False)\n",
    "    for batch in progress_bar:\n",
    "        embeddings = batch[0].to(device).unsqueeze(1)\n",
    "        labels = batch[1].to(device)\n",
    "\n",
    "        outputs = model(inputs_embeds=embeddings, labels=labels)\n",
    "        logits = outputs.logits\n",
    "        val_loss += outputs.loss.item()\n",
    "\n",
    "        # Obter probabilidades e predições\n",
    "        probabilities = softmax(logits, dim=-1).cpu().numpy()\n",
    "        predictions = torch.argmax(logits, dim=-1)\n",
    "\n",
    "        val_true_labels.extend(labels.cpu().numpy())\n",
    "        val_predicted_labels.extend(predictions.cpu().numpy())\n",
    "        val_probabilities.extend(probabilities)\n",
    "\n",
    "# Calcular métricas de validação\n",
    "val_accuracy = accuracy_score(val_true_labels, val_predicted_labels)\n",
    "val_f1 = f1_score(val_true_labels, val_predicted_labels, average=\"weighted\")\n",
    "val_precision = precision_score(val_true_labels, val_predicted_labels, average=\"weighted\")\n",
    "val_recall = recall_score(val_true_labels, val_predicted_labels, average=\"weighted\")\n",
    "val_mcc = matthews_corrcoef(val_true_labels, val_predicted_labels)\n",
    "\n",
    "# Calcular ROC-AUC para problemas binários\n",
    "if len(set(val_true_labels)) == 2:  # Apenas para classificação binária\n",
    "    val_roc_auc = roc_auc_score(val_true_labels, [prob[1] for prob in val_probabilities])\n",
    "else:\n",
    "    val_roc_auc = None  # ROC-AUC não aplicável para classificação multiclasse\n",
    "\n",
    "# Logar métricas no WandB\n",
    "wandb.log({\n",
    "    \"val_loss\": val_loss / len(balanced_dataloader),\n",
    "    \"val_accuracy\": val_accuracy,\n",
    "    \"val_f1\": val_f1,\n",
    "    \"val_precision\": val_precision,\n",
    "    \"val_recall\": val_recall,\n",
    "    \"val_mcc\": val_mcc,\n",
    "    \"val_roc_auc\": val_roc_auc if val_roc_auc else None,\n",
    "})\n",
    "\n",
    "print(f\"Modelo sem pesos - Validation - Loss: {val_loss / len(balanced_dataloader):.4f} - \"\n",
    "      f\"Accuracy: {val_accuracy:.4f} - F1: {val_f1:.4f} - \"\n",
    "      f\"Precision: {val_precision:.4f} - Recall: {val_recall:.4f} - \"\n",
    "      f\"MCC: {val_mcc:.4f} - ROC-AUC: {val_roc_auc if val_roc_auc else 'N/A'}\")\n",
    "\n",
    "# Finalizar o WandB\n",
    "run.finish()"
   ]
  },
  {
   "cell_type": "code",
   "execution_count": 6,
   "id": "f85cf95e-df0a-4541-afbb-aaf93e6be002",
   "metadata": {},
   "outputs": [
    {
     "data": {
      "text/html": [
       "Tracking run with wandb version 0.19.3"
      ],
      "text/plain": [
       "<IPython.core.display.HTML object>"
      ]
     },
     "metadata": {},
     "output_type": "display_data"
    },
    {
     "data": {
      "text/html": [
       "Run data is saved locally in <code>/home/lladseloi/wandb/run-20250122_053235-2iqxfqbc</code>"
      ],
      "text/plain": [
       "<IPython.core.display.HTML object>"
      ]
     },
     "metadata": {},
     "output_type": "display_data"
    },
    {
     "data": {
      "text/html": [
       "Syncing run <strong><a href='https://wandb.ai/loureirolucas98-ufrn/Pedidos_Respostas_LLM_Completo/runs/2iqxfqbc' target=\"_blank\">avaliacao_modelo_com_pesos</a></strong> to <a href='https://wandb.ai/loureirolucas98-ufrn/Pedidos_Respostas_LLM_Completo' target=\"_blank\">Weights & Biases</a> (<a href='https://wandb.me/developer-guide' target=\"_blank\">docs</a>)<br>"
      ],
      "text/plain": [
       "<IPython.core.display.HTML object>"
      ]
     },
     "metadata": {},
     "output_type": "display_data"
    },
    {
     "data": {
      "text/html": [
       " View project at <a href='https://wandb.ai/loureirolucas98-ufrn/Pedidos_Respostas_LLM_Completo' target=\"_blank\">https://wandb.ai/loureirolucas98-ufrn/Pedidos_Respostas_LLM_Completo</a>"
      ],
      "text/plain": [
       "<IPython.core.display.HTML object>"
      ]
     },
     "metadata": {},
     "output_type": "display_data"
    },
    {
     "data": {
      "text/html": [
       " View run at <a href='https://wandb.ai/loureirolucas98-ufrn/Pedidos_Respostas_LLM_Completo/runs/2iqxfqbc' target=\"_blank\">https://wandb.ai/loureirolucas98-ufrn/Pedidos_Respostas_LLM_Completo/runs/2iqxfqbc</a>"
      ],
      "text/plain": [
       "<IPython.core.display.HTML object>"
      ]
     },
     "metadata": {},
     "output_type": "display_data"
    },
    {
     "data": {
      "text/plain": [
       "BertForSequenceClassification(\n",
       "  (bert): BertModel(\n",
       "    (embeddings): BertEmbeddings(\n",
       "      (word_embeddings): Embedding(29794, 768, padding_idx=0)\n",
       "      (position_embeddings): Embedding(512, 768)\n",
       "      (token_type_embeddings): Embedding(2, 768)\n",
       "      (LayerNorm): LayerNorm((768,), eps=1e-12, elementwise_affine=True)\n",
       "      (dropout): Dropout(p=0.1, inplace=False)\n",
       "    )\n",
       "    (encoder): BertEncoder(\n",
       "      (layer): ModuleList(\n",
       "        (0-11): 12 x BertLayer(\n",
       "          (attention): BertAttention(\n",
       "            (self): BertSelfAttention(\n",
       "              (query): Linear(in_features=768, out_features=768, bias=True)\n",
       "              (key): Linear(in_features=768, out_features=768, bias=True)\n",
       "              (value): Linear(in_features=768, out_features=768, bias=True)\n",
       "              (dropout): Dropout(p=0.1, inplace=False)\n",
       "            )\n",
       "            (output): BertSelfOutput(\n",
       "              (dense): Linear(in_features=768, out_features=768, bias=True)\n",
       "              (LayerNorm): LayerNorm((768,), eps=1e-12, elementwise_affine=True)\n",
       "              (dropout): Dropout(p=0.1, inplace=False)\n",
       "            )\n",
       "          )\n",
       "          (intermediate): BertIntermediate(\n",
       "            (dense): Linear(in_features=768, out_features=3072, bias=True)\n",
       "            (intermediate_act_fn): GELUActivation()\n",
       "          )\n",
       "          (output): BertOutput(\n",
       "            (dense): Linear(in_features=3072, out_features=768, bias=True)\n",
       "            (LayerNorm): LayerNorm((768,), eps=1e-12, elementwise_affine=True)\n",
       "            (dropout): Dropout(p=0.1, inplace=False)\n",
       "          )\n",
       "        )\n",
       "      )\n",
       "    )\n",
       "    (pooler): BertPooler(\n",
       "      (dense): Linear(in_features=768, out_features=768, bias=True)\n",
       "      (activation): Tanh()\n",
       "    )\n",
       "  )\n",
       "  (dropout): Dropout(p=0.1, inplace=False)\n",
       "  (classifier): Linear(in_features=768, out_features=2, bias=True)\n",
       ")"
      ]
     },
     "execution_count": 6,
     "metadata": {},
     "output_type": "execute_result"
    }
   ],
   "source": [
    "# Iniciar uma nova sessão do WandB para o segundo modelo\n",
    "run = wandb.init(project=\"Pedidos_Respostas_LLM_Completo\", name=\"avaliacao_modelo_com_pesos\")\n",
    "\n",
    "# Definir o nome do modelo salvo no Hugging Face\n",
    "model_name = \"Lorero/bert-treinado-pedidos-completo-v2\"\n",
    "\n",
    "# Carregar o modelo e o tokenizer do Hugging Face\n",
    "tokenizer = AutoTokenizer.from_pretrained(model_name)\n",
    "model = AutoModelForSequenceClassification.from_pretrained(model_name)\n",
    "\n",
    "# Configurar o dispositivo\n",
    "device = torch.device(\"cuda\") if torch.cuda.is_available() else torch.device(\"cpu\")\n",
    "model.to(device)"
   ]
  },
  {
   "cell_type": "code",
   "execution_count": 7,
   "id": "8b3e95b5-8214-45cf-a37a-a8f658c0fee1",
   "metadata": {
    "tags": []
   },
   "outputs": [
    {
     "data": {
      "application/vnd.jupyter.widget-view+json": {
       "model_id": "",
       "version_major": 2,
       "version_minor": 0
      },
      "text/plain": [
       "Validando:   0%|          | 0/1080 [00:00<?, ?it/s]"
      ]
     },
     "metadata": {},
     "output_type": "display_data"
    },
    {
     "name": "stdout",
     "output_type": "stream",
     "text": [
      "Validation - Loss: 0.6934 - Accuracy: 0.5000 - F1: 0.3333 - Precision: 0.2500 - Recall: 0.5000 - MCC: 0.0000 - ROC-AUC: 0.549753979739508\n"
     ]
    },
    {
     "name": "stderr",
     "output_type": "stream",
     "text": [
      "/home/lladseloi/.conda/envs/env_llm/lib/python3.10/site-packages/sklearn/metrics/_classification.py:1531: UndefinedMetricWarning: Precision is ill-defined and being set to 0.0 in labels with no predicted samples. Use `zero_division` parameter to control this behavior.\n",
      "  _warn_prf(average, modifier, f\"{metric.capitalize()} is\", len(result))\n"
     ]
    },
    {
     "data": {
      "text/html": [],
      "text/plain": [
       "<IPython.core.display.HTML object>"
      ]
     },
     "metadata": {},
     "output_type": "display_data"
    },
    {
     "data": {
      "text/html": [
       "<br>    <style><br>        .wandb-row {<br>            display: flex;<br>            flex-direction: row;<br>            flex-wrap: wrap;<br>            justify-content: flex-start;<br>            width: 100%;<br>        }<br>        .wandb-col {<br>            display: flex;<br>            flex-direction: column;<br>            flex-basis: 100%;<br>            flex: 1;<br>            padding: 10px;<br>        }<br>    </style><br><div class=\"wandb-row\"><div class=\"wandb-col\"><h3>Run history:</h3><br/><table class=\"wandb\"><tr><td>val_accuracy</td><td>▁</td></tr><tr><td>val_f1</td><td>▁</td></tr><tr><td>val_loss</td><td>▁</td></tr><tr><td>val_mcc</td><td>▁</td></tr><tr><td>val_precision</td><td>▁</td></tr><tr><td>val_recall</td><td>▁</td></tr><tr><td>val_roc_auc</td><td>▁</td></tr></table><br/></div><div class=\"wandb-col\"><h3>Run summary:</h3><br/><table class=\"wandb\"><tr><td>model_name</td><td>bert-modelo-com-peso...</td></tr><tr><td>val_accuracy</td><td>0.5</td></tr><tr><td>val_f1</td><td>0.33333</td></tr><tr><td>val_loss</td><td>0.69336</td></tr><tr><td>val_mcc</td><td>0</td></tr><tr><td>val_precision</td><td>0.25</td></tr><tr><td>val_recall</td><td>0.5</td></tr><tr><td>val_roc_auc</td><td>0.54975</td></tr></table><br/></div></div>"
      ],
      "text/plain": [
       "<IPython.core.display.HTML object>"
      ]
     },
     "metadata": {},
     "output_type": "display_data"
    },
    {
     "data": {
      "text/html": [
       " View run <strong style=\"color:#cdcd00\">avaliacao_modelo_com_pesos</strong> at: <a href='https://wandb.ai/loureirolucas98-ufrn/Pedidos_Respostas_LLM_Completo/runs/2iqxfqbc' target=\"_blank\">https://wandb.ai/loureirolucas98-ufrn/Pedidos_Respostas_LLM_Completo/runs/2iqxfqbc</a><br> View project at: <a href='https://wandb.ai/loureirolucas98-ufrn/Pedidos_Respostas_LLM_Completo' target=\"_blank\">https://wandb.ai/loureirolucas98-ufrn/Pedidos_Respostas_LLM_Completo</a><br>Synced 5 W&B file(s), 0 media file(s), 0 artifact file(s) and 0 other file(s)"
      ],
      "text/plain": [
       "<IPython.core.display.HTML object>"
      ]
     },
     "metadata": {},
     "output_type": "display_data"
    },
    {
     "data": {
      "text/html": [
       "Find logs at: <code>./wandb/run-20250122_053235-2iqxfqbc/logs</code>"
      ],
      "text/plain": [
       "<IPython.core.display.HTML object>"
      ]
     },
     "metadata": {},
     "output_type": "display_data"
    }
   ],
   "source": [
    "# Avaliação no conjunto balanceado\n",
    "model.eval()\n",
    "val_loss = 0\n",
    "val_true_labels = []\n",
    "val_predicted_labels = []\n",
    "val_probabilities = []\n",
    "\n",
    "with torch.no_grad():\n",
    "    progress_bar = tqdm(balanced_dataloader, desc=\"Validando\", leave=False)\n",
    "    for batch in progress_bar:\n",
    "        embeddings = batch[0].to(device).unsqueeze(1)\n",
    "        labels = batch[1].to(device)\n",
    "\n",
    "        outputs = model(inputs_embeds=embeddings, labels=labels)\n",
    "        logits = outputs.logits\n",
    "        val_loss += outputs.loss.item()\n",
    "\n",
    "        # Obter probabilidades e predições\n",
    "        probabilities = softmax(logits, dim=-1).cpu().numpy()\n",
    "        predictions = torch.argmax(logits, dim=-1)\n",
    "\n",
    "        val_true_labels.extend(labels.cpu().numpy())\n",
    "        val_predicted_labels.extend(predictions.cpu().numpy())\n",
    "        val_probabilities.extend(probabilities)\n",
    "\n",
    "# Calcular métricas de validação\n",
    "val_accuracy = accuracy_score(val_true_labels, val_predicted_labels)\n",
    "val_f1 = f1_score(val_true_labels, val_predicted_labels, average=\"weighted\")\n",
    "val_precision = precision_score(val_true_labels, val_predicted_labels, average=\"weighted\")\n",
    "val_recall = recall_score(val_true_labels, val_predicted_labels, average=\"weighted\")\n",
    "val_mcc = matthews_corrcoef(val_true_labels, val_predicted_labels)\n",
    "\n",
    "# Calcular ROC-AUC para problemas binários\n",
    "if len(set(val_true_labels)) == 2:  # Apenas para classificação binária\n",
    "    val_roc_auc = roc_auc_score(val_true_labels, [prob[1] for prob in val_probabilities])\n",
    "else:\n",
    "    val_roc_auc = None  # ROC-AUC não aplicável para classificação multiclasse\n",
    "\n",
    "# Exibir métricas\n",
    "print(f\"Validation - Loss: {val_loss / len(balanced_dataloader):.4f} - \"\n",
    "      f\"Accuracy: {val_accuracy:.4f} - F1: {val_f1:.4f} - \"\n",
    "      f\"Precision: {val_precision:.4f} - Recall: {val_recall:.4f} - \"\n",
    "      f\"MCC: {val_mcc:.4f} - ROC-AUC: {val_roc_auc if val_roc_auc else 'N/A'}\")\n",
    "\n",
    "# Logar métricas no WandB\n",
    "wandb.log({\n",
    "    \"model_name\": \"bert-modelo-com-pesos\",\n",
    "    \"val_loss\": val_loss / len(balanced_dataloader),\n",
    "    \"val_accuracy\": val_accuracy,\n",
    "    \"val_f1\": val_f1,\n",
    "    \"val_precision\": val_precision,\n",
    "    \"val_recall\": val_recall,\n",
    "    \"val_mcc\": val_mcc,\n",
    "    \"val_roc_auc\": val_roc_auc if val_roc_auc else None,\n",
    "})\n",
    "\n",
    "# Finalizar o WandB\n",
    "run.finish()"
   ]
  }
 ],
 "metadata": {
  "kernelspec": {
   "display_name": "Python 3 (ipykernel)",
   "language": "python",
   "name": "python3"
  },
  "language_info": {
   "codemirror_mode": {
    "name": "ipython",
    "version": 3
   },
   "file_extension": ".py",
   "mimetype": "text/x-python",
   "name": "python",
   "nbconvert_exporter": "python",
   "pygments_lexer": "ipython3",
   "version": "3.10.16"
  }
 },
 "nbformat": 4,
 "nbformat_minor": 5
}
